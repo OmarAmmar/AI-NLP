{
 "cells": [
  {
   "cell_type": "code",
   "execution_count": null,
   "metadata": {
    "collapsed": true
   },
   "outputs": [],
   "source": [
    "import requests\n",
    "import nltk\n",
    "import ipywidgets as widgets\n",
    "from IPython.display import display"
   ]
  },
  {
   "cell_type": "code",
   "execution_count": null,
   "outputs": [],
   "source": [
    "nltk.download(\"punkt\")  # Download the required NLTK data\n",
    "\n",
    "API_URL = \"https://api-inference.huggingface.co/models/kredor/punctuate-all\"\n",
    "API_TOKEN = \"API-TOKEN\"  # Replace with your actual API token\n",
    "headers = {\"Authorization\": f\"Bearer {API_TOKEN}\"}\n"
   ],
   "metadata": {
    "collapsed": false
   }
  },
  {
   "cell_type": "code",
   "execution_count": null,
   "outputs": [],
   "source": [
    "def query(payload):\n",
    "    response = requests.post(API_URL, headers=headers, json=payload)\n",
    "    return response.json()\n",
    "\n",
    "def punctuate_text(text):\n",
    "    output = query({\n",
    "        \"inputs\": text\n",
    "    })\n",
    "    punctuated_text = \"\"\n",
    "    for item in output:\n",
    "        if punctuated_text and item[\"word\"] and not item[\"word\"][0].isspace():\n",
    "            punctuated_text += \" \"\n",
    "        punctuated_text += item[\"word\"]\n",
    "        if item[\"entity_group\"] in (\".\", \"?\", \"!\"):\n",
    "            yield punctuated_text.strip()\n",
    "            punctuated_text = \"\"\n"
   ],
   "metadata": {
    "collapsed": false
   }
  },
  {
   "cell_type": "code",
   "execution_count": null,
   "outputs": [],
   "source": [
    "\n",
    "def handle_text_change(change):\n",
    "    unpunctuated_text = change[\"new\"].strip()\n",
    "    output_text.value = \"\"  # Clear the output text area\n",
    "    if unpunctuated_text:\n",
    "        sentences = nltk.sent_tokenize(unpunctuated_text)\n",
    "        for sentence in sentences:\n",
    "            # TODO:: if sentence is complete\n",
    "            punctuated_sentences = punctuate_text(sentence)\n",
    "            for punctuated_sentence in punctuated_sentences:\n",
    "                output_text.value += punctuated_sentence + \"\\n\""
   ],
   "metadata": {
    "collapsed": false
   }
  },
  {
   "cell_type": "code",
   "execution_count": null,
   "outputs": [],
   "source": [
    "# Create input and output widgets\n",
    "input_text = widgets.Textarea(placeholder=\"Enter a sentence\", layout=widgets.Layout(width=\"100%\", height=\"100px\"))\n",
    "output_text = widgets.Textarea(disabled=True, layout=widgets.Layout(width=\"100%\", height=\"200px\"))\n",
    "\n",
    "# Register the text change event handler\n",
    "input_text.observe(handle_text_change, names=\"value\")\n",
    "\n",
    "# Display the widgets\n",
    "display(input_text, output_text)"
   ],
   "metadata": {
    "collapsed": false
   }
  }
 ],
 "metadata": {
  "kernelspec": {
   "display_name": "Python 3",
   "language": "python",
   "name": "python3"
  },
  "language_info": {
   "codemirror_mode": {
    "name": "ipython",
    "version": 2
   },
   "file_extension": ".py",
   "mimetype": "text/x-python",
   "name": "python",
   "nbconvert_exporter": "python",
   "pygments_lexer": "ipython2",
   "version": "2.7.6"
  }
 },
 "nbformat": 4,
 "nbformat_minor": 0
}
